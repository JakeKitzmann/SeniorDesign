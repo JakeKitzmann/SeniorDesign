{
 "cells": [
  {
   "cell_type": "code",
   "execution_count": 1,
   "id": "f7a41088-7877-4724-ab6f-14024f96f4ab",
   "metadata": {},
   "outputs": [],
   "source": [
    "import SimpleITK as sitk\n",
    "import numpy as np\n",
    "import os\n",
    "import glob\n",
    "import matplotlib.pyplot as plt\n",
    "from scipy.ndimage import binary_dilation, center_of_mass\n",
    "import cv2"
   ]
  },
  {
   "cell_type": "code",
   "execution_count": 2,
   "id": "0370342f-6ba9-474a-a90c-78f6aaff726b",
   "metadata": {},
   "outputs": [
    {
     "name": "stdout",
     "output_type": "stream",
     "text": [
      "scans: 1\n",
      "segs: 1\n"
     ]
    }
   ],
   "source": [
    "in_dicom = 0\n",
    "\n",
    "scan_path = 'data/testing_data/scans/'\n",
    "seg_path = 'data/testing_data/segs/'\n",
    "\n",
    "scans = []\n",
    "segs = []\n",
    "\n",
    "\n",
    "if in_dicom:\n",
    "    reader = sitk.ImageSeriesReader()\n",
    "    \n",
    "    dicom_names = reader.GetGDCMSeriesFileNames(scan_path)\n",
    "    reader.SetFileNames(dicom_names)\n",
    "    \n",
    "    scans.append(reader.Execute())\n",
    "else: # in NifTi or Nrrd, account for gz comp\n",
    "    scan_names = glob.glob(os.path.join(scan_path, '*.nii'), recursive = True) + glob.glob(os.path.join(scan_path, '*.nii.gz'), recursive = True)\n",
    "    seg_names = glob.glob(os.path.join(seg_path, '*.nii'), recursive = True) + glob.glob(os.path.join(seg_path, '*.nii.gz'), recursive = True)\n",
    "\n",
    "# match scans and segmentations with indices of array\n",
    "# change to naming convention from rad tech\n",
    "for scan_name in scan_names:\n",
    "    scan = sitk.GetArrayFromImage(sitk.ReadImage(scan_name))\n",
    "    scans.append(scan)\n",
    "    for seg_name in seg_names:\n",
    "        if seg_name.split('/')[-1] == scan_name.split('/')[-1]:\n",
    "            seg = sitk.GetArrayFromImage(sitk.ReadImage(seg_name))\n",
    "            segs.append(seg)\n",
    "            \n",
    "print(f'scans: {len(scans)}')\n",
    "print(f'segs: {len(segs)}')"
   ]
  },
  {
   "cell_type": "code",
   "execution_count": 3,
   "id": "19137e9c-3348-4df7-b2cc-0985fb707f55",
   "metadata": {},
   "outputs": [],
   "source": [
    "rois = []\n",
    "\n",
    "for idx, scan in enumerate(scans):\n",
    "    mask = segs[idx] > 0\n",
    "    rois.append(np.multiply(scan, mask))"
   ]
  },
  {
   "cell_type": "code",
   "execution_count": 4,
   "id": "2e92dbc7-487f-4a06-b649-c0099c5d95f9",
   "metadata": {},
   "outputs": [],
   "source": [
    "def expand_segmentation(segmentation):\n",
    "    # define convolution kernel for dilation\n",
    "    kernel = np.ones((3, 3), np.uint8)\n",
    "    \n",
    "    # dilate\n",
    "    return cv2.dilate(segmentation, kernel, iterations=5)\n",
    "    "
   ]
  },
  {
   "cell_type": "code",
   "execution_count": 5,
   "id": "636fc5b0-9a38-442c-9837-8815a0661f02",
   "metadata": {},
   "outputs": [
    {
     "data": {
      "text/plain": [
       "<matplotlib.colorbar.Colorbar at 0x15d0e4d90>"
      ]
     },
     "execution_count": 5,
     "metadata": {},
     "output_type": "execute_result"
    },
    {
     "data": {
      "image/png": "[encoded data removed]",
      "text/plain": [
       "<Figure size 640x480 with 2 Axes>"
      ]
     },
     "metadata": {},
     "output_type": "display_data"
    }
   ],
   "source": [
    "neighbor_segs = []\n",
    "neighbor_rois = []\n",
    "\n",
    "for idx, seg in enumerate(segs):\n",
    "    neighbor_mask = expand_segmentation(seg)\n",
    "    neighbor_mask = np.subtract(neighbor_mask, seg)\n",
    "    neighbor_mask = neighbor_mask.astype(np.double)\n",
    "    neighbor_segs.append(neighbor_mask)\n",
    "    neighbor_roi = np.multiply(scans[idx], neighbor_mask)\n",
    "    neighbor_rois.append(neighbor_roi)\n",
    "\n",
    "plt.imshow(neighbor_rois[0][20])\n",
    "plt.colorbar()    "
   ]
  },
  {
   "cell_type": "code",
   "execution_count": 6,
   "id": "6c2b4945-0949-4ce1-b187-6b55934498d9",
   "metadata": {},
   "outputs": [
    {
     "data": {
      "text/plain": [
       "<matplotlib.image.AxesImage at 0x15d2edcc0>"
      ]
     },
     "execution_count": 6,
     "metadata": {},
     "output_type": "execute_result"
    },
    {
     "data": {
      "image/png": "[encoded data removed]",
      "text/plain": [
       "<Figure size 640x480 with 5 Axes>"
      ]
     },
     "metadata": {},
     "output_type": "display_data"
    }
   ],
   "source": [
    "scan_num = 0\n",
    "slice_ax = 20\n",
    "\n",
    "# visualize mask creation results\n",
    "plt.subplot(2,3,1)\n",
    "plt.imshow(scans[scan_num][slice_ax,:,:], cmap = 'gray')\n",
    "plt.axis('off')\n",
    "plt.title('scan')\n",
    "plt.subplot(2,3,2)\n",
    "plt.imshow(segs[scan_num][slice_ax,:,:], cmap = 'gray')\n",
    "plt.axis('off')\n",
    "plt.title('seg')\n",
    "plt.subplot(2,3,3)\n",
    "plt.axis('off')\n",
    "plt.title('seg roi')\n",
    "plt.imshow(rois[scan_num][slice_ax,:,:], cmap='gray')\n",
    "plt.subplot(2,3,4)\n",
    "plt.axis('off')\n",
    "plt.title('neighbor seg')\n",
    "plt.imshow(neighbor_segs[scan_num][slice_ax,:,:], cmap='gray')\n",
    "plt.subplot(2,3,5)\n",
    "plt.axis('off')\n",
    "plt.title('neighboring roi')\n",
    "plt.imshow(neighbor_roi[slice_ax,:,:], cmap='gray')"
   ]
  },
  {
   "cell_type": "code",
   "execution_count": 7,
   "id": "a6c5f611-18a7-46c2-83d5-9a4f9c93e37f",
   "metadata": {},
   "outputs": [],
   "source": [
    "# from med physics textbook pg 60\n",
    "def local_contrast(img, img_bg):\n",
    "    i1 = np.mean(img)\n",
    "    i2 = np.mean(img_bg)\n",
    "    return np.abs((i1 - i2) / i2)\n",
    "    "
   ]
  },
  {
   "cell_type": "code",
   "execution_count": 9,
   "id": "e7267a95-db72-4185-9f81-df1323f27f23",
   "metadata": {},
   "outputs": [
    {
     "name": "stdout",
     "output_type": "stream",
     "text": [
      "Matching: 0.0\n",
      "Mismatching: 0.98989898989899\n",
      "Wrong dimension: 0.0\n",
      "Mismatch of numbers and dimensions: 0.98989898989899\n",
      "^^ we can see that the dimensionality of the images is not affecting the contrast ^^\n"
     ]
    }
   ],
   "source": [
    "img_1 = np.ones((1,1,1))\n",
    "img_2 = np.ones((1,1,1)) * 99\n",
    "img_3 = np.ones((1,2,3))\n",
    "img_4 = np.ones((1,2,3)) * 99\n",
    "\n",
    "matching_contrast = local_contrast(img_1, img_1)\n",
    "print(f'Matching: {matching_contrast}')\n",
    "mismatching_contrast = local_contrast(img_1, img_2)\n",
    "print(f'Mismatching: {mismatching_contrast}')\n",
    "wrong_dimension_contrast = local_contrast(img_1,img_3)\n",
    "print(f'Wrong dimension: {wrong_dimension_contrast}')\n",
    "wrong_dim_mismatch_contrast = local_contrast(img_1, img_4)\n",
    "print(f'Mismatch of numbers and dimensions: {wrong_dim_mismatch_contrast}')\n",
    "print('^^ we can see that the dimensionality of the images is not affecting the contrast ^^')"
   ]
  },
  {
   "cell_type": "code",
   "execution_count": 10,
   "id": "8c3d39f4-6eb6-43b3-a5cd-c9e909c9886f",
   "metadata": {},
   "outputs": [
    {
     "name": "stdout",
     "output_type": "stream",
     "text": [
      "Image to neighboring tissue local contrast: 0.6476814516129032\n"
     ]
    }
   ],
   "source": [
    "contrast = local_contrast(rois[0][rois[0] > 0], neighbor_rois[0][neighbor_rois[0] > 0])\n",
    "print(f'Image to neighboring tissue local contrast: {contrast}')"
   ]
  },
  {
   "cell_type": "code",
   "execution_count": null,
   "id": "457e3892-b9c2-4acb-996f-d12726961a82",
   "metadata": {},
   "outputs": [],
   "source": []
  }
 ],
 "metadata": {
  "kernelspec": {
   "display_name": "Python 3 (ipykernel)",
   "language": "python",
   "name": "python3"
  },
  "language_info": {
   "codemirror_mode": {
    "name": "ipython",
    "version": 3
   },
   "file_extension": ".py",
   "mimetype": "text/x-python",
   "name": "python",
   "nbconvert_exporter": "python",
   "pygments_lexer": "ipython3",
   "version": "3.10.1"
  }
 },
 "nbformat": 4,
 "nbformat_minor": 5
}
